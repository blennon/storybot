{
 "cells": [
  {
   "cell_type": "code",
   "execution_count": 99,
   "metadata": {},
   "outputs": [],
   "source": [
    "\"\"\"\n",
    "Summary of strategy.\n",
    "\n",
    "{{CONVO}}\n",
    "\n",
    "Brainstorm, name and develop supporting characters:\n",
    "{{insert}}\n",
    "\n",
    "Brainstorm, describe and develop plot devices:\n",
    "{{insert}}\n",
    "\n",
    "Outline the story in three Acts.\n",
    "\n",
    "ACT I\n",
    "1.{{insert}}\n",
    "\n",
    "ACT II\n",
    "1.{{insert}}\n",
    "\n",
    "ACT III\n",
    "1.{{insert}}\n",
    "\n",
    "Then, use EDIT to revise each Act providing the following instructions Rewrite ACT I in story form that will be part of a children's picture book for a {{age}} year old.\n",
    "\"\"\"\n",
    "\n",
    "import openai\n",
    "from main import complete\n",
    "from synthesize_convos import open_file\n",
    "from uuid import uuid4\n",
    "\n",
    "params = {'model':'text-davinci-002',\n",
    "        'max_tokens':512,\n",
    "        'temperature':1.0,\n",
    "        'top_p':1.0,\n",
    "        'frequency_penalty':0.0,\n",
    "        'presence_penalty':0.0,\n",
    "        'stop':None\n",
    "        }\n",
    "\n",
    "template1 = \"\"\"\n",
    "{{UUID}}\n",
    "{{CONVO}}\n",
    "\n",
    "Write a synopsis of the story:\n",
    "\"\"\"\n",
    "\n",
    "template2 = \"\"\"Brainstorm, describe and develop plot devices:\"\"\"\n",
    "template3 = \"\"\"\n",
    "Outline the story in three Acts.\n",
    "\n",
    "ACT I\n",
    "1.\n",
    "\"\"\"\n",
    "revise_template = \"\"\"Rewrite ACT {{ACT_NUM}} in story form that will be part of a children's picture book for a three year old.\"\"\"\n"
   ]
  },
  {
   "cell_type": "code",
   "execution_count": 100,
   "metadata": {},
   "outputs": [
    {
     "name": "stdout",
     "output_type": "stream",
     "text": [
      "\n",
      "49221718-0106-49ec-9d7e-4951190169c8\n",
      "STORYBOT: Hi, I’m Storybot, a friendly AI that will help write an amazing story for your little one. Since every great story starts with a main character, can you tell me about your’s? It helps to know their name, age and gender.\n",
      "CUSTOMER: Harper is my 3 year old daughter.\n",
      "STORYBOT: Okay, Harper is a great name! And what does Harper like to do?\n",
      "CUSTOMER: She loves to play make believe and dress up.\n",
      "STORYBOT: That sounds like a lot of fun! What kind of fantasy story would you like me to write for Harper?\n",
      "CUSTOMER: I want it to be about a strong female character who overcomes challenges.\n",
      "STORYBOT: That sounds like an excellent story for Harper! I'm sure she would love to read about a strong female character that perseveres. Are there any other themes or lessons you would like the story to teach?\n",
      "CUSTOMER: I want it to be about never giving up and being brave.\n",
      "STORYBOT: That's a great message for Harper! I'm sure she will love the story. Thanks for your help!\n",
      "STORYBOT: Is there anything else you would like to add to your story? If not, you can say ALL DONE.\n",
      "CUSTOMER: ALL DONE.\n",
      "\n",
      "Write a synopsis of the story:\n",
      "\n",
      "Harper is a strong female character who overcomes challenges and never gives up. She is brave and perseveres through anything that comes her way. The story teaches the importance of never giving up and being brave.\n"
     ]
    }
   ],
   "source": [
    "convo = open_file('convos/convo_165.txt')\n",
    "prompt1 = template1.replace('{{CONVO}}', convo).replace('{{UUID}}', str(uuid4()))\n",
    "prompt1_response = complete(prompt1, params, max_retry=1)\n",
    "print(prompt1+prompt1_response.choices[0].text)"
   ]
  },
  {
   "cell_type": "code",
   "execution_count": null,
   "metadata": {},
   "outputs": [],
   "source": []
  }
 ],
 "metadata": {
  "kernelspec": {
   "display_name": "Python 3.9.5 ('base')",
   "language": "python",
   "name": "python3"
  },
  "language_info": {
   "codemirror_mode": {
    "name": "ipython",
    "version": 3
   },
   "file_extension": ".py",
   "mimetype": "text/x-python",
   "name": "python",
   "nbconvert_exporter": "python",
   "pygments_lexer": "ipython3",
   "version": "3.9.5"
  },
  "orig_nbformat": 4,
  "vscode": {
   "interpreter": {
    "hash": "3d597f4c481aa0f25dceb95d2a0067e73c0966dcbd003d741d821a7208527ecf"
   }
  }
 },
 "nbformat": 4,
 "nbformat_minor": 2
}
