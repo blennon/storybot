{
 "cells": [
  {
   "cell_type": "code",
   "execution_count": 18,
   "metadata": {},
   "outputs": [],
   "source": [
    "\"\"\"\n",
    "STORY GENERATOR\n",
    "Our goal is to gather preferences from a customer and brainstorm children's story ideas.\n",
    "\n",
    "Genre: Children's {{genre}}\n",
    "Audience: Children ages 2-5\n",
    "Themes: {{themes}}\n",
    "Tones: {{tones}}\n",
    "Main character name: {{main_character_name}}\n",
    "\n",
    "Brainstorm story ideas:\n",
    "1.\n",
    "\n",
    ">> User chooses one or asks for more.\n",
    "\n",
    "Develop the main character:\n",
    "\n",
    ">> User can input, confirm or regenerate.\n",
    "\n",
    "Brainstorm and enumerate antagonist:\n",
    "\n",
    ">> User chooses one or asks for more\n",
    "\n",
    "Develop and name the antagonist:\n",
    "\n",
    ">> User can input, confirm or regenerate.\n",
    "\n",
    "Brainstorm and enumerate supporting characters:\n",
    "\n",
    ">> User can choose multiple or regenerate\n",
    "\n",
    "Write a detailed synopsis in three Acts.\n",
    "\n",
    "ACT I\n",
    "1.\n",
    "\n",
    "Then, use EDIT to revise each Act providing the following instructions: Convert ACT {{ACT_NUM}} into a written narrative for a children’s picture book.\n",
    "\"\"\"\n"
   ]
  },
  {
   "cell_type": "code",
   "execution_count": 8,
   "metadata": {},
   "outputs": [
    {
     "name": "stdout",
     "output_type": "stream",
     "text": [
      "STORY GENERATOR\n",
      "Our goal is to gather preferences from a customer and brainstorm children's story ideas.\n",
      "\n",
      "Genre: Children's Fantasy\n",
      "Audience: Children ages 2-5\n",
      "Themes: Bravery, Friendship\n",
      "Tones: Whimsical\n",
      "Main character name: Rowan\n",
      "\n",
      "Brainstorm story ideas:\n",
      "1.Rowan and her friend go on an adventure to find a lost treasure.\n",
      "2.Rowan has to save her friend from a evil sorcerer.\n",
      "3.Rowan and her friend go on a quest to save the kingdom from a dragon.\n",
      "4.Rowan and her friend find a magical garden that is in danger of being destroyed.\n",
      "5. Rowan and her friend are captured by pirates and have to escape.\n"
     ]
    }
   ],
   "source": [
    "\n",
    "\n",
    "start_prompt = make_start_prompt(pref)\n",
    "\n",
    "# Generate story ideas\n",
    "prompt, response = generate_response(start_prompt, story_ideas_prompt, params)\n",
    "response_text = response.choices[0].text\n",
    "print(prompt+response_text)\n",
    "\n",
    "# Select story idea\n",
    "if check_string_list(response_text):\n",
    "    story_ideas = parse_string_list(response_text)\n",
    "start_prompt = set_story_idea(start_prompt, story_ideas, 0)"
   ]
  },
  {
   "cell_type": "code",
   "execution_count": 16,
   "metadata": {},
   "outputs": [
    {
     "name": "stdout",
     "output_type": "stream",
     "text": [
      "STORY GENERATOR\n",
      "Our goal is to gather preferences from a customer and brainstorm children's story ideas.\n",
      "\n",
      "Genre: Children's Fantasy\n",
      "Audience: Children ages 2-5\n",
      "Themes: Bravery, Friendship\n",
      "Tones: Whimsical\n",
      "Main character name: Rowan\n",
      "\n",
      "Story idea: Rowan and her friend go on an adventure to find a lost treasure.\n",
      "Develop the main character:\n",
      "Rowan is a brave and adventurous girl who loves to explore. She is always looking for new challenges and is never afraid to take risks. Her best friend is always by her side, and together they make an unstoppable team.\n"
     ]
    }
   ],
   "source": [
    "# Develop the main character\n",
    "prompt, response = generate_response(start_prompt, develop_protag_prompt, params)\n",
    "print(prompt+response.choices[0].text)\n",
    "\n",
    "# Set the main character\n",
    "start_prompt = set_idea(start_prompt, \"Main character\", response.choices[0].text.strip())"
   ]
  },
  {
   "cell_type": "code",
   "execution_count": 24,
   "metadata": {},
   "outputs": [
    {
     "name": "stdout",
     "output_type": "stream",
     "text": [
      "STORY GENERATOR\n",
      "Our goal is to gather preferences from a customer and brainstorm children's story ideas.\n",
      "\n",
      "Genre: Children's Fantasy\n",
      "Audience: Children ages 2-5\n",
      "Themes: Bravery, Friendship\n",
      "Tones: Whimsical\n",
      "Main character name: Rowan\n",
      "\n",
      "Story idea: Rowan and her friend go on an adventure to find a lost treasure.\n",
      "Main character: Rowan is a brave and adventurous girl who loves to explore. She is always looking for new challenges and is never afraid to take risks. Her best friend is always by her side, and together they make an unstoppable team.\n",
      "Brainstorm antagonist ideas:\n",
      "1. A terrifying dragon who is guarding the treasure\n",
      "2. A evil witch who has cursed the treasure\n",
      "3. A powerful wizard who is trying to stop Rowan from finding the treasure\n"
     ]
    }
   ],
   "source": [
    "# Brainstorm antagonist ideas\n",
    "prompt, response = generate_response(start_prompt, antag_ideas_prompt, params)\n",
    "response_text = response.choices[0].text\n",
    "print(prompt+response_text)"
   ]
  },
  {
   "cell_type": "code",
   "execution_count": 27,
   "metadata": {},
   "outputs": [],
   "source": [
    "if None:\n",
    "    print('hi')"
   ]
  },
  {
   "cell_type": "code",
   "execution_count": null,
   "metadata": {},
   "outputs": [],
   "source": [
    "# multi-select antagonist ideas\n",
    "if check_string_list(response_text):\n",
    "    antag_ideas = parse_string_list(response_text)"
   ]
  }
 ],
 "metadata": {
  "kernelspec": {
   "display_name": "Python 3.9.5 ('base')",
   "language": "python",
   "name": "python3"
  },
  "language_info": {
   "codemirror_mode": {
    "name": "ipython",
    "version": 3
   },
   "file_extension": ".py",
   "mimetype": "text/x-python",
   "name": "python",
   "nbconvert_exporter": "python",
   "pygments_lexer": "ipython3",
   "version": "3.9.5"
  },
  "orig_nbformat": 4,
  "vscode": {
   "interpreter": {
    "hash": "3d597f4c481aa0f25dceb95d2a0067e73c0966dcbd003d741d821a7208527ecf"
   }
  }
 },
 "nbformat": 4,
 "nbformat_minor": 2
}
