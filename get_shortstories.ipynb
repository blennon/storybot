{
 "cells": [
  {
   "cell_type": "markdown",
   "metadata": {},
   "source": [
    "# Get Short Stories from Reddit\n",
    "This notebook will get the top short stories from the /r/shortstories subreddit.\n",
    "It filters posts that aren't stories and posts that are too long. "
   ]
  },
  {
   "cell_type": "code",
   "execution_count": 108,
   "metadata": {},
   "outputs": [],
   "source": [
    "import requests\n",
    "import json\n",
    "import re\n",
    "from pprint import pprint\n",
    "from time import sleep\n",
    "import pandas as pd\n",
    "import matplotlib"
   ]
  },
  {
   "cell_type": "code",
   "execution_count": 88,
   "metadata": {},
   "outputs": [],
   "source": [
    "desired_number = 1000\n",
    "count = 0\n",
    "fetch_limit = 100\n",
    "url='https://www.reddit.com/r/shortstories/top/.json?t=year'\n",
    "headers = {'User-agent': 'Mozilla/5.0'}\n",
    "params = {'limit': str(fetch_limit)}\n",
    "posts = []\n",
    "while count < desired_number:\n",
    "    r = requests.get(url, headers=headers, params=params)\n",
    "    if r.status_code == 200:\n",
    "        data = r.json()\n",
    "        posts += data['data']['children']\n",
    "        count += fetch_limit\n",
    "        params['after'] = data['data']['after']\n",
    "        sleep(1)\n",
    "    else:\n",
    "        print('Error: ' + str(r.status_code))\n",
    "        break"
   ]
  },
  {
   "cell_type": "code",
   "execution_count": 121,
   "metadata": {},
   "outputs": [],
   "source": [
    "def parse_post(post: dict) -> dict:\n",
    "    title = re.sub(\"\\[\\w+\\]\\s*\", \"\", post['data']['title'])\n",
    "    return {\n",
    "        'genre': post['data']['link_flair_text'],\n",
    "        'title': title,\n",
    "        'text': post['data']['selftext'],\n",
    "        'ups': post['data']['ups'],\n",
    "        'upvote_ratio': post['data']['upvote_ratio']\n",
    "    }\n",
    "\n",
    "def filter_posts(posts: list, max_length: int = 7500) -> list:\n",
    "    \"\"\"\n",
    "    Filter out posts that aren't stories or formatted\n",
    "    \"\"\"\n",
    "    filtered_posts = []\n",
    "    bad_link_flair_text = [None, 'Meta Post','Micro Monday', 'Non-Fiction', 'Off Topic', 'Roundtable Thursday', 'Serial Sunday']\n",
    "    for p in posts:\n",
    "        if p['data']['link_flair_text'] in bad_link_flair_text:\n",
    "            continue\n",
    "        if re.search(\"\\[\\w+\\]\\s*\",p['data']['title']) is None:\n",
    "            continue\n",
    "        if len(p['data']['selftext']) > max_length:\n",
    "            continue\n",
    "        filtered_posts.append(p)\n",
    "    return filtered_posts"
   ]
  },
  {
   "cell_type": "code",
   "execution_count": 122,
   "metadata": {},
   "outputs": [
    {
     "name": "stdout",
     "output_type": "stream",
     "text": [
      "1000\n",
      "494\n"
     ]
    }
   ],
   "source": [
    "# filter and parse posts\n",
    "print(len(posts))\n",
    "clean_posts = filter_posts(posts)\n",
    "parsed_posts = [parse_post(p) for p in clean_posts]\n",
    "print(len(parsed_posts))\n",
    "\n",
    "# save the parsed posts to shortstories.json\n",
    "with open('data/shortstories.json', 'w') as f:\n",
    "    json.dump(parsed_posts, f)"
   ]
  },
  {
   "cell_type": "markdown",
   "metadata": {},
   "source": [
    "# EDA to further clean the data"
   ]
  },
  {
   "cell_type": "code",
   "execution_count": 112,
   "metadata": {},
   "outputs": [
    {
     "data": {
      "text/html": [
       "<div>\n",
       "<style scoped>\n",
       "    .dataframe tbody tr th:only-of-type {\n",
       "        vertical-align: middle;\n",
       "    }\n",
       "\n",
       "    .dataframe tbody tr th {\n",
       "        vertical-align: top;\n",
       "    }\n",
       "\n",
       "    .dataframe thead th {\n",
       "        text-align: right;\n",
       "    }\n",
       "</style>\n",
       "<table border=\"1\" class=\"dataframe\">\n",
       "  <thead>\n",
       "    <tr style=\"text-align: right;\">\n",
       "      <th></th>\n",
       "      <th>genre</th>\n",
       "      <th>title</th>\n",
       "      <th>text</th>\n",
       "      <th>ups</th>\n",
       "      <th>upvote_ratio</th>\n",
       "      <th>text_length</th>\n",
       "    </tr>\n",
       "  </thead>\n",
       "  <tbody>\n",
       "    <tr>\n",
       "      <th>66</th>\n",
       "      <td>Misc Fiction</td>\n",
       "      <td>The Anchor</td>\n",
       "      <td>I was born with an anchor in my chest. It was...</td>\n",
       "      <td>15</td>\n",
       "      <td>0.95</td>\n",
       "      <td>2533</td>\n",
       "    </tr>\n",
       "    <tr>\n",
       "      <th>585</th>\n",
       "      <td>Realistic Fiction</td>\n",
       "      <td>Evoke</td>\n",
       "      <td>Dear ———\\n\\n\\nIt’s been a while now since we’v...</td>\n",
       "      <td>4</td>\n",
       "      <td>0.83</td>\n",
       "      <td>2578</td>\n",
       "    </tr>\n",
       "    <tr>\n",
       "      <th>180</th>\n",
       "      <td>Horror</td>\n",
       "      <td>Who killed my mother?</td>\n",
       "      <td>Who killed my mother? She lays a few steps be...</td>\n",
       "      <td>10</td>\n",
       "      <td>0.79</td>\n",
       "      <td>2608</td>\n",
       "    </tr>\n",
       "    <tr>\n",
       "      <th>512</th>\n",
       "      <td>Fantasy</td>\n",
       "      <td>A Yearly Appointment</td>\n",
       "      <td>Winter was the only season when I would see he...</td>\n",
       "      <td>6</td>\n",
       "      <td>0.88</td>\n",
       "      <td>2616</td>\n",
       "    </tr>\n",
       "    <tr>\n",
       "      <th>506</th>\n",
       "      <td>Fantasy</td>\n",
       "      <td>Birth of The Devil</td>\n",
       "      <td>(Layout is definitely weird, so sorry for that...</td>\n",
       "      <td>5</td>\n",
       "      <td>0.79</td>\n",
       "      <td>2621</td>\n",
       "    </tr>\n",
       "  </tbody>\n",
       "</table>\n",
       "</div>"
      ],
      "text/plain": [
       "                 genre                  title  ... upvote_ratio  text_length\n",
       "66        Misc Fiction             The Anchor  ...         0.95         2533\n",
       "585  Realistic Fiction                  Evoke  ...         0.83         2578\n",
       "180             Horror  Who killed my mother?  ...         0.79         2608\n",
       "512            Fantasy   A Yearly Appointment  ...         0.88         2616\n",
       "506            Fantasy     Birth of The Devil  ...         0.79         2621\n",
       "\n",
       "[5 rows x 6 columns]"
      ]
     },
     "execution_count": 112,
     "metadata": {},
     "output_type": "execute_result"
    }
   ],
   "source": [
    "# create a dataframe from the parsed posts\n",
    "# one column has the text and another has the length of the text\n",
    "df = pd.DataFrame(parsed_posts)\n",
    "df['text_length'] = df['text'].apply(len)\n",
    "\n",
    "# sort the dataframe by the length of the text in ascending order\n",
    "df.sort_values(by='text_length', ascending=True, inplace=True)\n",
    "df.head()"
   ]
  },
  {
   "cell_type": "code",
   "execution_count": 109,
   "metadata": {},
   "outputs": [
    {
     "name": "stderr",
     "output_type": "stream",
     "text": [
      "Fontconfig warning: ignoring UTF-8: not a valid region tag\n"
     ]
    },
    {
     "data": {
      "text/plain": [
       "<AxesSubplot:ylabel='Frequency'>"
      ]
     },
     "execution_count": 109,
     "metadata": {},
     "output_type": "execute_result"
    },
    {
     "data": {
      "image/png": "[encoded data removed]",
      "text/plain": [
       "<Figure size 432x288 with 1 Axes>"
      ]
     },
     "metadata": {
      "needs_background": "light"
     },
     "output_type": "display_data"
    }
   ],
   "source": [
    "# plot a histogram of the text length\n",
    "df['text_length'].plot(kind='hist', bins=50)"
   ]
  },
  {
   "cell_type": "code",
   "execution_count": 127,
   "metadata": {},
   "outputs": [
    {
     "data": {
      "text/plain": [
       "<AxesSubplot:>"
      ]
     },
     "execution_count": 127,
     "metadata": {},
     "output_type": "execute_result"
    },
    {
     "data": {
      "image/png": "[encoded data removed]",
      "text/plain": [
       "<Figure size 432x288 with 1 Axes>"
      ]
     },
     "metadata": {
      "needs_background": "light"
     },
     "output_type": "display_data"
    }
   ],
   "source": [
    "# plot a histogram of the genres\n",
    "df['genre'].value_counts().plot(kind='bar')\n"
   ]
  },
  {
   "cell_type": "code",
   "execution_count": 128,
   "metadata": {},
   "outputs": [
    {
     "data": {
      "text/plain": [
       "<AxesSubplot:ylabel='Frequency'>"
      ]
     },
     "execution_count": 128,
     "metadata": {},
     "output_type": "execute_result"
    },
    {
     "data": {
      "image/png": "[encoded data removed]",
      "text/plain": [
       "<Figure size 432x288 with 1 Axes>"
      ]
     },
     "metadata": {
      "needs_background": "light"
     },
     "output_type": "display_data"
    }
   ],
   "source": [
    "# plot a histogram of the ups\n",
    "df['ups'].plot(kind='hist', bins=50)"
   ]
  },
  {
   "cell_type": "code",
   "execution_count": null,
   "metadata": {},
   "outputs": [],
   "source": []
  }
 ],
 "metadata": {
  "kernelspec": {
   "display_name": "Python 3.9.5 ('base')",
   "language": "python",
   "name": "python3"
  },
  "language_info": {
   "codemirror_mode": {
    "name": "ipython",
    "version": 3
   },
   "file_extension": ".py",
   "mimetype": "text/x-python",
   "name": "python",
   "nbconvert_exporter": "python",
   "pygments_lexer": "ipython3",
   "version": "3.9.5"
  },
  "orig_nbformat": 4,
  "vscode": {
   "interpreter": {
    "hash": "3d597f4c481aa0f25dceb95d2a0067e73c0966dcbd003d741d821a7208527ecf"
   }
  }
 },
 "nbformat": 4,
 "nbformat_minor": 2
}
