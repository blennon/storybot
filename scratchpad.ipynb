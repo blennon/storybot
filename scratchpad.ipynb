{
 "cells": [
  {
   "cell_type": "code",
   "execution_count": 12,
   "metadata": {},
   "outputs": [],
   "source": [
    "import openai\n",
    "with open('openaiapikey.txt', 'r') as infile:\n",
    "    open_ai_api_key = infile.read()\n",
    "openai.api_key = open_ai_api_key"
   ]
  },
  {
   "cell_type": "code",
   "execution_count": 13,
   "metadata": {},
   "outputs": [],
   "source": [
    "with open('./data/synopsis.txt','r') as f:\n",
    "    prompt = f.read()"
   ]
  },
  {
   "cell_type": "code",
   "execution_count": 15,
   "metadata": {},
   "outputs": [],
   "source": [
    "params = {'model':'text-davinci-edit-001',\n",
    "        'temperature':1.0,\n",
    "        'top_p':1.0,\n",
    "        }\n",
    "\n",
    "response = openai.Edit.create(\n",
    "    input=prompt,\n",
    "    instruction=\"Convert ACT I intro a written narrative for a children's story\",\n",
    "    **params\n",
    ")"
   ]
  },
  {
   "cell_type": "code",
   "execution_count": 18,
   "metadata": {},
   "outputs": [
    {
     "name": "stdout",
     "output_type": "stream",
     "text": [
      "STORY GENERATOR\n",
      "Our goal is to gather preferences from a customer and brainstorm children's story ideas.\n",
      "\n",
      "Genre: Children's Fantasy\n",
      "Audience: Children ages 2-5\n",
      "Themes: Bravery, Friendship\n",
      "Tones: Whimsical, Heartwarming\n",
      "Main character name: Rowan, a girl.\n",
      "\n",
      "Story idea: Rowan befriends a dragon and together they go on adventures.\n",
      "\n",
      "Antagonist idea: A mean wizard who is trying to capture the dragon.\n",
      "\n",
      "Antagonist: The antagonist in this story is the mean wizard, who is trying to capture the dragon for unknown reasons. He is a powerful wizard who uses his magic to try and control those around him.\n",
      "\n",
      "Supporting characters: :\n",
      "1. The dragon – A friendly dragon who befriends Rowan. He is brave and helpful, always there to lend a helping hand (or claw).\n",
      "2. The mean wizard's henchmen – a group of goons who do the wizard's bidding without question. They are not very bright and are easily fooled by Rowan and the dragon.\n",
      "Write a detailed synopsis in three Acts.\n",
      "\n",
      "ACT 1\n",
      "1. Rowan is out exploring in the woods near her home when she comes across a dragon. At first she is scared, but the dragon is friendly and soon they become friends.\n",
      "2. The mean wizard hears about the dragon and decides he wants to capture it. He sends his henchmen to find it.\n",
      "3. Rowan and the dragon go on adventures together, having fun and getting to know each other.\n",
      "\n",
      "ACT 2\n",
      "1. The mean wizard's henchmen finally find Rowan and the dragon. They try to capture the dragon, but it is too powerful and escapes.\n",
      "2. The mean wizard is angry that his henchmen have failed him. He decides to capture Rowan instead, in order to lure the dragon to him.\n",
      "3. Rowan is captured by the wizard and taken to his castle. The dragon comes to rescue her, but is injured in the process.\n",
      "\n",
      "ACT 3\n",
      "1. Rowan and the dragon work together to defeat the mean wizard. They use their bravery and friendship to triumph over him and he is defeated.\n",
      "2. The dragon is healed and they both return home. Rowan's family is very happy to see her and they all live happily ever after.\n",
      "\n",
      "Convert the story synopsis into a written narrative for a children's story.\n",
      "\n",
      "Rowan was out exploring in the woods one day when she came across a baby dragon. At first she was very scared, but the dragon was friendly and soon they were playing together. Every day, Rowan would go to the woods and spend time with the dragon. Soon they became best friends.\n",
      "\n",
      "One day, a mean wizard heard about the dragon. He went into the woods to try to capture it for himself. The dragon was very frightened of the wizard and flew away as fast as it could. The mean wizard had lost the dragon, but he was determined to find it. He sent his henchmen searching everywhere looking for it.\n",
      "\n",
      "Over the next few days, Rowan and the dragon would play together in the woods. However, one day they heard the sound of someone walking through the brush towards them. Quickly, Rowan and the dragon hid in the nearby trees. When the henchmen appeared, they couldn't see Rowan or the dragon. Confused, the gang decided to go back to the wizard and tell him they couldn't find them.\n",
      "\n",
      "Unfortunately, Rowan and the dragon had been spotted. The mean wizard now knew they were living in the woods. He saw that this was the perfect opportunity to finally capture the dragon. He told his henchmen to return to the woods and look for the dragon again. This time he told them to capture it and bring it back to him. If they didn't succeed, the wizard would be very angry.\n",
      "\n"
     ]
    }
   ],
   "source": [
    "print(response.choices[0].text)"
   ]
  },
  {
   "cell_type": "code",
   "execution_count": null,
   "metadata": {},
   "outputs": [],
   "source": [
    "openai.Edit()"
   ]
  }
 ],
 "metadata": {
  "kernelspec": {
   "display_name": "Python 3.9.5 ('base')",
   "language": "python",
   "name": "python3"
  },
  "language_info": {
   "codemirror_mode": {
    "name": "ipython",
    "version": 3
   },
   "file_extension": ".py",
   "mimetype": "text/x-python",
   "name": "python",
   "nbconvert_exporter": "python",
   "pygments_lexer": "ipython3",
   "version": "3.9.5"
  },
  "orig_nbformat": 4,
  "vscode": {
   "interpreter": {
    "hash": "3d597f4c481aa0f25dceb95d2a0067e73c0966dcbd003d741d821a7208527ecf"
   }
  }
 },
 "nbformat": 4,
 "nbformat_minor": 2
}
